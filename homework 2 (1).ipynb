{
 "cells": [
  {
   "cell_type": "markdown",
   "metadata": {},
   "source": [
    "### Question 1 File handilng\n",
    "\n",
    "- Write a Python script that opens the file and prints the number of channels (rows).\n",
    "\n",
    "- Add error handling with try-except in case the file doesn’t exist."
   ]
  },
  {
   "cell_type": "code",
   "execution_count": 8,
   "metadata": {},
   "outputs": [
    {
     "name": "stdout",
     "output_type": "stream",
     "text": [
      "Number of channels (rows): 1000\n"
     ]
    }
   ],
   "source": [
    "import csv\n",
    "\n",
    "with open('twitchdata-update.csv', 'r', encoding='utf-8') as file:\n",
    "        reader = csv.reader(file)\n",
    "        next(reader)\n",
    "        count = sum(1 for row in reader)\n",
    "print(\"Number of channels (rows):\", count)\n",
    "\n"
   ]
  },
  {
   "cell_type": "code",
   "execution_count": 7,
   "metadata": {},
   "outputs": [
    {
     "name": "stdout",
     "output_type": "stream",
     "text": [
      "Error: File not found.\n"
     ]
    }
   ],
   "source": [
    "import csv\n",
    "import json\n",
    "\n",
    "try:\n",
    "    with open('twitchdata-udate.csv', 'r', encoding='utf-8') as file:\n",
    "        reader = csv.DictReader(file)\n",
    "        data = list(reader)\n",
    "    json_data = json.dumps(data[:5], indent=2)\n",
    "    print(json_data)\n",
    "except FileNotFoundError:\n",
    "    print(\"Error: File not found.\")\n"
   ]
  },
  {
   "cell_type": "markdown",
   "metadata": {},
   "source": [
    "### Question 2 Basic exploration of the dataset\n",
    "- Print the list of all unique languages in the dataset. Hint: use the function ```set()```\n",
    "\n",
    "- Count how many channels are partnered ```(Partnered = True).```\n",
    "\n",
    "- Find the total number of followers across all channels."
   ]
  },
  {
   "cell_type": "code",
   "execution_count": 6,
   "metadata": {},
   "outputs": [
    {
     "name": "stdout",
     "output_type": "stream",
     "text": [
      "Unique languages: {'Finnish', 'Swedish', 'German', 'Arabic', 'English', 'Thai', 'Turkish', 'French', 'Italian', 'Korean', 'Japanese', 'Portuguese', 'Chinese', 'Greek', 'Russian', 'Spanish', 'Other', 'Czech', 'Slovak', 'Polish', 'Hungarian'}\n",
      "Number of partnered channels: 978\n",
      "Total number of followers: 570054068\n"
     ]
    }
   ],
   "source": [
    "import pandas as pd\n",
    "\n",
    "df = pd.read_csv('twitchdata-update.csv')\n",
    "\n",
    "\n",
    "unique_languages = set(df['Language'])\n",
    "print(\"Unique languages:\", unique_languages)\n",
    "\n",
    "partnered_count = df[df['Partnered'] == True].shape[0]\n",
    "print(\"Number of partnered channels:\", partnered_count)\n",
    "\n",
    "total_followers = df['Followers'].sum()\n",
    "print(\"Total number of followers:\", total_followers)\n"
   ]
  },
  {
   "cell_type": "markdown",
   "metadata": {},
   "source": [
    "### Question 3: Sorting and filtering data\n",
    "- Sort the channels by Watch time (minutes) in descending order and print the top 5.\n",
    "\n",
    "- Sort the channels by Followers gained in descending order.\n",
    "\n",
    "- Compare your custom sorting algorithm (e.g., selection sort) with Python’s built-in ```sorted().```\n",
    "\n",
    "**Selection Sort** is a simple comparison-based sorting algorithm.  \n",
    "It works by **repeatedly finding the minimum element** from the unsorted portion of the list and placing it at the beginning.\n",
    "\n",
    "### Steps:\n",
    "1. Start with the first element of the list.\n",
    "2. Search the entire list (or the unsorted portion) to find the smallest element.\n",
    "3. Swap this smallest element with the element at the current position.\n",
    "4. Move the boundary of the sorted portion one step to the right.\n",
    "5. Repeat until the list is fully sorted.\n",
    "\n",
    "### Example:\n",
    "For the list `[29, 10, 14, 37, 13]`:\n",
    "- Pass 1: Smallest element is `10`. Swap with `29` → `[10, 29, 14, 37, 13]`\n",
    "- Pass 2: Smallest in the remaining portion is `13`. Swap with `29` → `[10, 13, 14, 37, 29]`\n",
    "- Pass 3: Smallest is `14`. No swap needed → `[10, 13, 14, 37, 29]`\n",
    "- Pass 4: Smallest is `29`. Swap with `37` → `[10, 13, 14, 29, 37]`\n",
    "- Sorted list achieved."
   ]
  },
  {
   "cell_type": "code",
   "execution_count": 33,
   "metadata": {},
   "outputs": [
    {
     "name": "stdout",
     "output_type": "stream",
     "text": [
      "    channel  watch time(minutes)  stream time(minutes)  peak viewers  \\\n",
      "0     xQcOW           6196161750                215250        222720   \n",
      "1  summit1g           6091677300                211845        310998   \n",
      "2    Gaules           5644590915                515280        387315   \n",
      "3  ESL_CSGO           3970318140                517740        300575   \n",
      "4      Tfue           3671000070                123660        285644   \n",
      "\n",
      "   average viewers  followers  followers gained  views gained  partnered  \\\n",
      "0            27716    3246298           1734810      93036735       True   \n",
      "1            25610    5310163           1370184      89705964       True   \n",
      "2            10976    1767635           1023779     102611607       True   \n",
      "3             7714    3944850            703986     106546942       True   \n",
      "4            29602    8938903           2068424      78998587       True   \n",
      "\n",
      "   mature    language  \n",
      "0   False     English  \n",
      "1   False     English  \n",
      "2    True  Portuguese  \n",
      "3   False     English  \n",
      "4   False     English  \n"
     ]
    }
   ],
   "source": [
    "import pandas as pd\n",
    "\n",
    "df = pd.read_csv('twitchdata-update.csv')\n",
    "df.columns = df.columns.str.lower().str.strip()\n",
    "print(df.head())\n"
   ]
  },
  {
   "cell_type": "code",
   "execution_count": 34,
   "metadata": {},
   "outputs": [
    {
     "name": "stdout",
     "output_type": "stream",
     "text": [
      "Top 5 channels by Watch Time:\n",
      "     channel  watch time(minutes)\n",
      "0     xQcOW           6196161750\n",
      "1  summit1g           6091677300\n",
      "2    Gaules           5644590915\n",
      "3  ESL_CSGO           3970318140\n",
      "4      Tfue           3671000070\n",
      "Channels sorted by Followers gained:\n",
      "       channel  followers gained\n",
      "14  auronplay           3966525\n",
      "13     Rubius           3820532\n",
      "25   TheGrefg           3593081\n",
      "51      Bugha           2220765\n",
      "90   pokimane           2085831\n"
     ]
    }
   ],
   "source": [
    "sorted_watch_time = df.sort_values(by='watch time(minutes)', ascending=False).head(5)\n",
    "print(\"Top 5 channels by Watch Time:\\n\", sorted_watch_time[['channel', 'watch time(minutes)']])\n",
    "\n",
    "sorted_followers = df.sort_values(by='followers gained', ascending=False)\n",
    "print(\"Channels sorted by Followers gained:\\n\", sorted_followers[['channel', 'followers gained']].head(5))\n"
   ]
  },
  {
   "cell_type": "code",
   "execution_count": 35,
   "metadata": {},
   "outputs": [
    {
     "name": "stdout",
     "output_type": "stream",
     "text": [
      "Top 5 channels by custom Selection Sort:\n",
      " [{'channel': 'xQcOW', 'watch time(minutes)': 6196161750}, {'channel': 'summit1g', 'watch time(minutes)': 6091677300}, {'channel': 'Gaules', 'watch time(minutes)': 5644590915}, {'channel': 'ESL_CSGO', 'watch time(minutes)': 3970318140}, {'channel': 'Tfue', 'watch time(minutes)': 3671000070}]\n",
      "Top 5 channels by built-in sorted():\n",
      " [{'channel': 'xQcOW', 'watch time(minutes)': 6196161750}, {'channel': 'summit1g', 'watch time(minutes)': 6091677300}, {'channel': 'Gaules', 'watch time(minutes)': 5644590915}, {'channel': 'ESL_CSGO', 'watch time(minutes)': 3970318140}, {'channel': 'Tfue', 'watch time(minutes)': 3671000070}]\n"
     ]
    }
   ],
   "source": [
    "def selection_sort(data, key):\n",
    "    arr = data.copy()\n",
    "    n = len(arr)\n",
    "    for i in range(n):\n",
    "        min_index = i\n",
    "        for j in range(i + 1, n):\n",
    "            if arr[j][key] < arr[min_index][key]:\n",
    "                min_index = j\n",
    "        arr[i], arr[min_index] = arr[min_index], arr[i]\n",
    "    return arr\n",
    "\n",
    "df_list = df[['channel', 'watch time(minutes)']].to_dict('records')\n",
    "custom_sorted = selection_sort(df_list, 'watch time(minutes)')\n",
    "custom_sorted_desc = custom_sorted[::-1]\n",
    "print(\"Top 5 channels by custom Selection Sort:\\n\", custom_sorted_desc[:5])\n",
    "\n",
    "builtin_sorted = sorted(df_list, key=lambda x: x['watch time(minutes)'], reverse=True)\n",
    "print(\"Top 5 channels by built-in sorted():\\n\", builtin_sorted[:5])\n"
   ]
  },
  {
   "cell_type": "markdown",
   "metadata": {},
   "source": [
    "### Quesiton 4: Searching\n",
    "- Implement a linear search function to find a channel by its name.\n",
    "\n",
    "- Sort the dataet by ```Followers``` and implement a binary search to quickly find the number of followers for a given channel.\n",
    "\n",
    "- Compare the number of steps taken by linear vs. binary search."
   ]
  },
  {
   "cell_type": "code",
   "execution_count": 9,
   "metadata": {},
   "outputs": [],
   "source": [
    "def linear_search(data, name):\n",
    "    steps = 0\n",
    "    for item in data:\n",
    "        steps += 1\n",
    "        if item['Channel'] == name:\n",
    "            return item['Followers'], steps\n",
    "    return None, steps\n",
    "\n",
    "def binary_search(data, name):\n",
    "    left = 0\n",
    "    right = len(data) - 1\n",
    "    steps = 0\n",
    "    while left <= right:\n",
    "        steps += 1\n",
    "        mid = (left + right) // 2\n",
    "        if data[mid]['Channel'] == name:\n",
    "            return data[mid]['Followers'], steps\n",
    "        elif data[mid]['Channel'] < name:\n",
    "            left = mid + 1\n",
    "        else:\n",
    "            right = mid - 1\n",
    "    return None, steps\n"
   ]
  },
  {
   "cell_type": "code",
   "execution_count": 16,
   "metadata": {},
   "outputs": [
    {
     "name": "stdout",
     "output_type": "stream",
     "text": [
      "Linear Search - Followers: None Steps: 1000\n",
      "Binary Search - Followers: None Steps: 9\n"
     ]
    }
   ],
   "source": [
    "import pandas as pd\n",
    "\n",
    "df = pd.read_csv('twitchdata-update.csv')\n",
    "\n",
    "data_list = df.to_dict(orient='records')\n",
    "\n",
    "followers_linear, steps_linear = linear_search(data_list, 'target_channel')\n",
    "print(\"Linear Search - Followers:\", followers_linear, \"Steps:\", steps_linear)\n",
    "\n",
    "sorted_data = sorted(data_list, key=lambda x: x['Channel'])\n",
    "followers_binary, steps_binary = binary_search(sorted_data, 'target_channel')\n",
    "print(\"Binary Search - Followers:\", followers_binary, \"Steps:\", steps_binary)\n"
   ]
  },
  {
   "cell_type": "markdown",
   "metadata": {},
   "source": [
    "### Question 5 basic Stats\n",
    "\n",
    "\n",
    "- Compute the average watch time per channel.\n",
    "\n",
    "-  Find the channel with the maximum average viewers.\n",
    "\n",
    "-  Find the top 3 languages by total views gained."
   ]
  },
  {
   "cell_type": "code",
   "execution_count": 4,
   "metadata": {},
   "outputs": [
    {
     "name": "stdout",
     "output_type": "stream",
     "text": [
      "    channel  watch time(minutes)  stream time(minutes)  peak viewers  \\\n",
      "0     xQcOW           6196161750                215250        222720   \n",
      "1  summit1g           6091677300                211845        310998   \n",
      "2    Gaules           5644590915                515280        387315   \n",
      "3  ESL_CSGO           3970318140                517740        300575   \n",
      "4      Tfue           3671000070                123660        285644   \n",
      "\n",
      "   average viewers  followers  followers gained  views gained  partnered  \\\n",
      "0            27716    3246298           1734810      93036735       True   \n",
      "1            25610    5310163           1370184      89705964       True   \n",
      "2            10976    1767635           1023779     102611607       True   \n",
      "3             7714    3944850            703986     106546942       True   \n",
      "4            29602    8938903           2068424      78998587       True   \n",
      "\n",
      "   mature    language  \n",
      "0   False     English  \n",
      "1   False     English  \n",
      "2    True  Portuguese  \n",
      "3   False     English  \n",
      "4   False     English  \n"
     ]
    }
   ],
   "source": [
    "import pandas as pd\n",
    "\n",
    "df = pd.read_csv('twitchdata-update.csv')\n",
    "df.columns = df.columns.str.lower().str.strip()\n",
    "print(df.head())\n"
   ]
  },
  {
   "cell_type": "code",
   "execution_count": 5,
   "metadata": {},
   "outputs": [
    {
     "name": "stdout",
     "output_type": "stream",
     "text": [
      "Average watch time per channel:\n",
      " channel\n",
      "10000DAYS           1.712932e+08\n",
      "1DrakoNz            2.494763e+08\n",
      "1PVCS               1.568219e+08\n",
      "39daph              5.090524e+08\n",
      "72hrs               5.194586e+08\n",
      "                        ...     \n",
      "핑맨 (95pingman)      1.646735e+08\n",
      "한동숙 (handongsuk)    1.621668e+09\n",
      "햇살살 (hatsalsal)     1.562110e+08\n",
      "헤징 (hejin0_0)       1.277105e+08\n",
      "홍방장 (game2eye)      1.730154e+08\n",
      "Name: watch time(minutes), Length: 1000, dtype: float64\n",
      "Channel with the maximum average viewers: dota2ti\n",
      "Top 3 languages by total views gained:\n",
      " language\n",
      "English    6080449579\n",
      "Russian    1221159349\n",
      "Korean      729666947\n",
      "Name: views gained, dtype: int64\n"
     ]
    }
   ],
   "source": [
    "avg_watch_time = df.groupby('channel')['watch time(minutes)'].mean()\n",
    "print(\"Average watch time per channel:\\n\", avg_watch_time)\n",
    "\n",
    "max_avg_viewers_channel = df.groupby('channel')['average viewers'].mean().idxmax()\n",
    "print(\"Channel with the maximum average viewers:\", max_avg_viewers_channel)\n",
    "\n",
    "top_3_languages = df.groupby('language')['views gained'].sum().nlargest(3)\n",
    "print(\"Top 3 languages by total views gained:\\n\", top_3_languages)\n",
    "\n"
   ]
  }
 ],
 "metadata": {
  "kernelspec": {
   "display_name": "Python 3",
   "language": "python",
   "name": "python3"
  },
  "language_info": {
   "codemirror_mode": {
    "name": "ipython",
    "version": 3
   },
   "file_extension": ".py",
   "mimetype": "text/x-python",
   "name": "python",
   "nbconvert_exporter": "python",
   "pygments_lexer": "ipython3",
   "version": "3.13.7"
  }
 },
 "nbformat": 4,
 "nbformat_minor": 2
}
