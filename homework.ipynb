{
 "cells": [
  {
   "cell_type": "code",
   "execution_count": 5,
   "id": "f0ff2dc2",
   "metadata": {},
   "outputs": [
    {
     "name": "stdout",
     "output_type": "stream",
     "text": [
      "Number of months required to save for the down payment: 129\n"
     ]
    }
   ],
   "source": [
    "annual_salary = float(input(\"Enter your starting annual salary in Lyon (€): \"))\n",
    "portion_saved = float(input(\"Enter the portion of salary to be saved each month (in decimal, e.g., 0.1 for 10%): \"))\n",
    "total_cost = float(input(\"Enter the cost of your dream home in Lyon (€): \"))\n",
    "\n",
    "portion_down_payment = 0.25\n",
    "current_savings = 0.0\n",
    "r = 0.04\n",
    "\n",
    "down_payment = total_cost * portion_down_payment\n",
    "months = 0\n",
    "\n",
    "while current_savings < down_payment:\n",
    "    current_savings += current_savings * (r / 12)\n",
    "    current_savings += (annual_salary / 12) * portion_saved\n",
    "    months += 1\n",
    "\n",
    "print(f\"Number of months required to save for the down payment: {months}\")\n"
   ]
  },
  {
   "cell_type": "code",
   "execution_count": 18,
   "id": "3ba0169c",
   "metadata": {},
   "outputs": [
    {
     "name": "stdout",
     "output_type": "stream",
     "text": [
      "Number of months: 133\n"
     ]
    }
   ],
   "source": [
    "\n",
    "def calculate_months_to_save(annual_salary, portion_saved, total_cost, semi_annual_raise, annual_return=0.04):\n",
    "    down_payment = total_cost * 0.25\n",
    "    current_savings = 0.0\n",
    "    monthly_salary = annual_salary / 12\n",
    "    months = 0\n",
    "\n",
    "    while current_savings < down_payment:\n",
    "        months += 1\n",
    "        current_savings += current_savings * (annual_return / 12)\n",
    "        current_savings += monthly_salary * portion_saved\n",
    "        if months % 6 == 0:\n",
    "            monthly_salary *= (1 + semi_annual_raise)\n",
    "\n",
    "    return months\n",
    "\n",
    "if __name__ == \"__main__\":\n",
    "    annual_salary = float(input(\"Enter the starting annual salary in Lyon: \"))\n",
    "    portion_saved = float(input(\"Enter the portion of salary to be saved (as a decimal): \"))\n",
    "    total_cost = float(input(\"Enter the cost of your dream home in Lyon: \"))\n",
    "    semi_annual_raise = float(input(\"Enter the semi-annual salary raise (as a decimal): \"))\n",
    "\n",
    "    months = calculate_months_to_save(annual_salary, portion_saved, total_cost, semi_annual_raise)\n",
    "    print(f\"Number of months: {months}\")\n",
    "\n"
   ]
  },
  {
   "cell_type": "code",
   "execution_count": 16,
   "id": "0a5a9aba",
   "metadata": {},
   "outputs": [
    {
     "name": "stdout",
     "output_type": "stream",
     "text": [
      "It is not possible to pay the down payment in three years\n"
     ]
    }
   ],
   "source": [
    "\n",
    "def calculate_savings(salary, savings_rate, months=36, annual_return=0.04, semi_annual_raise=0.07):\n",
    "    monthly_salary = salary / 12\n",
    "    current_savings = 0.0\n",
    "    for month in range(1, months + 1):\n",
    "        current_savings += current_savings * (annual_return / 12)\n",
    "        current_savings += monthly_salary * savings_rate\n",
    "        if month % 6 == 0:\n",
    "            monthly_salary *= (1 + semi_annual_raise)\n",
    "    return current_savings\n",
    "\n",
    "def find_best_savings_rate(starting_salary):\n",
    "    total_cost = 1_000_000\n",
    "    down_payment = total_cost * 0.25\n",
    "    epsilon = 100\n",
    "    low = 0.0\n",
    "    high = 1.0\n",
    "    steps = 0\n",
    "    max_savings = calculate_savings(starting_salary, 1.0)\n",
    "    if max_savings < down_payment - epsilon:\n",
    "        return None, steps\n",
    "    while (high - low) > 1e-5:\n",
    "        steps += 1\n",
    "        mid = (low + high) / 2\n",
    "        current_savings = calculate_savings(starting_salary, mid)\n",
    "        if abs(current_savings - down_payment) <= epsilon:\n",
    "            return round(mid, 4), steps\n",
    "        elif current_savings < down_payment:\n",
    "            low = mid\n",
    "        else:\n",
    "            high = mid\n",
    "    return round((low + high) / 2, 4), steps\n",
    "\n",
    "if __name__ == \"__main__\":\n",
    "    starting_salary = float(input(\"Enter the starting salary in Lyon: \"))\n",
    "    rate, steps = find_best_savings_rate(starting_salary)\n",
    "    if rate is not None:\n",
    "        print(f\"Best savings rate: {rate}\")\n",
    "        print(f\"Steps in bisection search: {steps}\")\n",
    "    else:\n",
    "        print(\"It is not possible to pay the down payment in three years\")\n"
   ]
  }
 ],
 "metadata": {
  "kernelspec": {
   "display_name": "Python 3",
   "language": "python",
   "name": "python3"
  },
  "language_info": {
   "codemirror_mode": {
    "name": "ipython",
    "version": 3
   },
   "file_extension": ".py",
   "mimetype": "text/x-python",
   "name": "python",
   "nbconvert_exporter": "python",
   "pygments_lexer": "ipython3",
   "version": "3.13.7"
  }
 },
 "nbformat": 4,
 "nbformat_minor": 5
}
